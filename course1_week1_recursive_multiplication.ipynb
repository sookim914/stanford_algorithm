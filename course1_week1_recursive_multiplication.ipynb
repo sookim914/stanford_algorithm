{
 "cells": [
  {
   "cell_type": "code",
   "execution_count": 122,
   "metadata": {},
   "outputs": [],
   "source": [
    "# recurive multiplication using Karatsuba method \n",
    "## assuming we can only do one digit multiplication \n",
    "## can be slightly inaccurate due to rounding errors\n",
    "def karatsuba (x,y): \n",
    "    n = len(x)\n",
    "    if n == 1: \n",
    "        return int(x)*int(y)\n",
    "    else: \n",
    "        a = x[0:int(n/2)]\n",
    "        b = x[int(n/2):int(n)]\n",
    "        c = y[0:int(n/2)]\n",
    "        d = y[int(n/2):int(n)]\n",
    "        return (10**(n)*karatsuba(a,c)+karatsuba(b,d)+\n",
    "               10**(n/2)*(karatsuba(a,d)+karatsuba(b,c)))"
   ]
  },
  {
   "cell_type": "code",
   "execution_count": 123,
   "metadata": {
    "scrolled": true
   },
   "outputs": [
    {
     "data": {
      "text/plain": [
       "8539734222673568132630552817124543303384443810782743410108121461153273869248724694809717341559380988311547488086466295603658752"
      ]
     },
     "execution_count": 123,
     "metadata": {},
     "output_type": "execute_result"
    }
   ],
   "source": [
    "int(karatsuba('3141592653589793238462643383279502884197169399375105820974944592','2718281828459045235360287471352662497757247093699959574966967627'))"
   ]
  }
 ],
 "metadata": {
  "kernelspec": {
   "display_name": "Python 3",
   "language": "python",
   "name": "python3"
  },
  "language_info": {
   "codemirror_mode": {
    "name": "ipython",
    "version": 3
   },
   "file_extension": ".py",
   "mimetype": "text/x-python",
   "name": "python",
   "nbconvert_exporter": "python",
   "pygments_lexer": "ipython3",
   "version": "3.7.4"
  }
 },
 "nbformat": 4,
 "nbformat_minor": 2
}
